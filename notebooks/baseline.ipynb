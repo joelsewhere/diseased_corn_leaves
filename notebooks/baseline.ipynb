{
 "cells": [
  {
   "cell_type": "code",
   "execution_count": 1,
   "metadata": {},
   "outputs": [
    {
     "name": "stderr",
     "output_type": "stream",
     "text": [
      "Using TensorFlow backend.\n"
     ]
    }
   ],
   "source": [
    "# Modeling\n",
    "from keras.models import Sequential \n",
    "from keras.layers import Conv2D, MaxPooling2D\n",
    "from keras.layers import Activation, Dropout, Flatten, Dense\n",
    "from keras.preprocessing.image import ImageDataGenerator\n",
    "\n",
    "import sys\n",
    "import os\n",
    "import shutil\n",
    "\n",
    "sys.path.append(os.pardir)\n",
    "\n",
    "\n",
    "# Turn of TensorFlow deprecation warnings\n",
    "import warnings\n",
    "warnings.filterwarnings('ignore', category=DeprecationWarning)\n",
    "warnings.filterwarnings('ignore', category=FutureWarning)"
   ]
  },
  {
   "cell_type": "code",
   "execution_count": 3,
   "metadata": {},
   "outputs": [
    {
     "name": "stdout",
     "output_type": "stream",
     "text": [
      "Found 3612 images belonging to 2 classes.\n",
      "Found 439 images belonging to 2 classes.\n",
      "Found 190 images belonging to 2 classes.\n"
     ]
    }
   ],
   "source": [
    "split = Split('healthy', 'infected')\n",
    "\n",
    "split.train_test_split()\n",
    "\n",
    "data_generator = ImageDataGenerator(rescale=1.0/256.0)\n",
    "\n",
    "train_path = os.path.join(os.pardir, 'train')\n",
    "validation_path = os.path.join(os.pardir, 'val')\n",
    "\n",
    "train_generator = data_generator.flow_from_directory(train_path, class_mode='binary', \n",
    "                                       target_size=(256,256), batch_size=64) \n",
    "validation_generator = data_generator.flow_from_directory(validation_path, class_mode='binary',\n",
    "                                     target_size=(256,256), batch_size=64)"
   ]
  },
  {
   "cell_type": "code",
   "execution_count": 4,
   "metadata": {},
   "outputs": [],
   "source": [
    "model = Sequential() \n",
    "model.add(Conv2D(32, (3, 3), activation='relu', padding='same', input_shape=(256, 256, 3))) \n",
    "model.add(MaxPooling2D((2, 2))) \n",
    "model.add(Flatten()) \n",
    "model.add(Dense(128, activation='relu')) \n",
    "model.add(Dense(1, activation='sigmoid'))\n",
    "\n",
    "model.compile(loss='binary_crossentropy',\n",
    "              optimizer='adam',\n",
    "              metrics=['accuracy'])"
   ]
  },
  {
   "cell_type": "code",
   "execution_count": 5,
   "metadata": {},
   "outputs": [
    {
     "name": "stdout",
     "output_type": "stream",
     "text": [
      "Epoch 1/4\n",
      "57/57 [==============================] - 645s 11s/step - loss: 8.9592 - accuracy: 0.6210 - val_loss: 0.3782 - val_accuracy: 0.7789\n",
      "Epoch 2/4\n",
      "57/57 [==============================] - 649s 11s/step - loss: 0.3322 - accuracy: 0.8519 - val_loss: 0.5020 - val_accuracy: 0.7842\n",
      "Epoch 3/4\n",
      "57/57 [==============================] - 939s 16s/step - loss: 0.2434 - accuracy: 0.8967 - val_loss: 0.3684 - val_accuracy: 0.8947\n",
      "Epoch 4/4\n",
      "57/57 [==============================] - 687s 12s/step - loss: 0.1559 - accuracy: 0.9405 - val_loss: 0.3039 - val_accuracy: 0.9263\n"
     ]
    },
    {
     "data": {
      "text/plain": [
       "<keras.callbacks.callbacks.History at 0x7fdcb4069f10>"
      ]
     },
     "execution_count": 5,
     "metadata": {},
     "output_type": "execute_result"
    }
   ],
   "source": [
    "model.fit_generator(\n",
    "        train_generator,\n",
    "        validation_data=validation_generator,\n",
    "        epochs=4)"
   ]
  },
  {
   "cell_type": "code",
   "execution_count": 6,
   "metadata": {},
   "outputs": [],
   "source": [
    "model.save('baseline.h5')"
   ]
  }
 ],
 "metadata": {
  "kernelspec": {
   "display_name": "mlearn",
   "language": "python",
   "name": "mlearn"
  },
  "language_info": {
   "codemirror_mode": {
    "name": "ipython",
    "version": 3
   },
   "file_extension": ".py",
   "mimetype": "text/x-python",
   "name": "python",
   "nbconvert_exporter": "python",
   "pygments_lexer": "ipython3",
   "version": "3.7.7"
  }
 },
 "nbformat": 4,
 "nbformat_minor": 4
}
